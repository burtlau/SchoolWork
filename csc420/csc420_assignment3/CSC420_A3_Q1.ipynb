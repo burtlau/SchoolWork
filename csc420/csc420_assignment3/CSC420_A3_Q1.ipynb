{
  "nbformat": 4,
  "nbformat_minor": 0,
  "metadata": {
    "colab": {
      "provenance": []
    },
    "kernelspec": {
      "name": "python3",
      "display_name": "Python 3"
    },
    "language_info": {
      "name": "python"
    }
  },
  "cells": [
    {
      "cell_type": "code",
      "execution_count": 1,
      "metadata": {
        "id": "sxtzylHPFHOA"
      },
      "outputs": [],
      "source": [
        "import cv2\n",
        "import numpy as np\n",
        "from matplotlib import pyplot as plt"
      ]
    },
    {
      "cell_type": "code",
      "source": [
        "laplacian_filter = np.ones((1000, 1000))\n",
        "laplacian_filter[450:550, 450:550] = 0\n",
        "plt.imshow(laplacian_filter, cmap='gray')"
      ],
      "metadata": {
        "colab": {
          "base_uri": "https://localhost:8080/",
          "height": 287
        },
        "id": "AMDGqWNLFXLZ",
        "outputId": "90f76364-1cef-419b-bbc1-e22de3c9481f"
      },
      "execution_count": 5,
      "outputs": [
        {
          "output_type": "execute_result",
          "data": {
            "text/plain": [
              "<matplotlib.image.AxesImage at 0x7fd964853310>"
            ]
          },
          "metadata": {},
          "execution_count": 5
        },
        {
          "output_type": "display_data",
          "data": {
            "text/plain": [
              "<Figure size 432x288 with 1 Axes>"
            ],
            "image/png": "[encoded data removed]"
          },
          "metadata": {
            "needs_background": "light"
          }
        }
      ]
    },
    {
      "cell_type": "code",
      "source": [
        "def G(x, y, sigma):\n",
        "  t = (x**2 + y**2) / (2 * sigma**2)\n",
        "  return (1 / (np.pi * sigma**4)) * (t - 1) * np.exp(-t)"
      ],
      "metadata": {
        "id": "Bvi_fhlcGVfu"
      },
      "execution_count": 20,
      "outputs": []
    },
    {
      "cell_type": "code",
      "source": [
        "conv_list = []\n",
        "m , n = laplacian_filter.shape[0], laplacian_filter.shape[1]\n",
        "for sigma in range(1, 101):\n",
        "  conv = 0\n",
        "  for i in range(m):\n",
        "      for j in range(n):\n",
        "          conv += laplacian_filter[i][j] * G(i - int(m/2), j - int(n/2), sigma)\n",
        "  conv_list.append(conv)"
      ],
      "metadata": {
        "id": "EAqJeUmdH0Vp"
      },
      "execution_count": 22,
      "outputs": []
    },
    {
      "cell_type": "code",
      "source": [
        "print(\"The maximize sigma value is\", np.argmax(conv_list) + 1)"
      ],
      "metadata": {
        "colab": {
          "base_uri": "https://localhost:8080/"
        },
        "id": "ecHphjaMLrM7",
        "outputId": "9e99cf68-f1f9-42ec-85e3-152579d472cc"
      },
      "execution_count": 23,
      "outputs": [
        {
          "output_type": "stream",
          "name": "stdout",
          "text": [
            "The maximize sigma value is 28\n"
          ]
        }
      ]
    },
    {
      "cell_type": "code",
      "source": [
        "plt.plot(range(1, 101), conv_list)\n",
        "plt.xlabel('sigma')\n",
        "plt.ylabel('Magnitude of the Response')\n",
        "plt.show()\n"
      ],
      "metadata": {
        "colab": {
          "base_uri": "https://localhost:8080/",
          "height": 279
        },
        "id": "O18z7YABKlJP",
        "outputId": "5b65db62-5e65-4d20-ec75-33001b9c4857"
      },
      "execution_count": 24,
      "outputs": [
        {
          "output_type": "display_data",
          "data": {
            "text/plain": [
              "<Figure size 432x288 with 1 Axes>"
            ],
            "image/png": "[encoded data removed]"
          },
          "metadata": {
            "needs_background": "light"
          }
        }
      ]
    }
  ]
}